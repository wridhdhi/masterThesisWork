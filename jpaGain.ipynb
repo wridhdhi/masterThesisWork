{
 "metadata": {
  "language_info": {
   "codemirror_mode": {
    "name": "ipython",
    "version": 3
   },
   "file_extension": ".py",
   "mimetype": "text/x-python",
   "name": "python",
   "nbconvert_exporter": "python",
   "pygments_lexer": "ipython3",
   "version": "3.8.3-final"
  },
  "orig_nbformat": 2,
  "kernelspec": {
   "name": "python3",
   "display_name": "Python 3",
   "language": "python"
  }
 },
 "nbformat": 4,
 "nbformat_minor": 2,
 "cells": [
  {
   "cell_type": "code",
   "execution_count": 12,
   "metadata": {},
   "outputs": [],
   "source": [
    "import math\n",
    "import numpy as np"
   ]
  },
  {
   "cell_type": "code",
   "execution_count": 8,
   "metadata": {},
   "outputs": [
    {
     "output_type": "stream",
     "name": "stdout",
     "text": [
      "python 3.141592653589793 -1.0\n"
     ]
    }
   ],
   "source": [
    "print(\"python\",math.pi,math.cos(math.pi))"
   ]
  },
  {
   "cell_type": "code",
   "execution_count": 9,
   "metadata": {},
   "outputs": [],
   "source": [
    "#constants\n",
    "phi_0=1\n",
    "w_s = 3.0 #GhZ signal freq\n",
    "w_p= 6.2 #pump freq"
   ]
  },
  {
   "cell_type": "code",
   "execution_count": 10,
   "metadata": {},
   "outputs": [],
   "source": [
    "def Z_squid(I_c,phi_dc,phi_ac,phase_diff):\n",
    "    L_j=phi_0/(2*math.pi**2*I_c*math.cos((math.pi*phi_dc)/phi_0))\n",
    "    exp=math.cos(phase_diff)+(math.sin(phase_diff)*j)\n",
    "    L_p= -exp * math.pow(phi_0,2) / (phi_ac*math.pi*2*I_c*math.sin((math.pi*phi_dc)/phi_0))\n",
    "    Y_j=-j/(w_s*L_j)\n",
    "    Y_pumpistor=-j/(w_s*L_p)\n",
    "\n",
    "    Y_sq=Y_j+Y_pumpistor #admittances in series, in parallel squid\n"
   ]
  },
  {
   "cell_type": "code",
   "execution_count": 11,
   "metadata": {},
   "outputs": [],
   "source": [
    "def SQD_ref_coeff(Z_squid,Z0):\n",
    "    return (Z_sq-Z0)/(Z_sq+Z0)\n",
    "\n",
    "\n"
   ]
  },
  {
   "cell_type": "code",
   "execution_count": 4,
   "metadata": {},
   "outputs": [
    {
     "output_type": "execute_result",
     "data": {
      "text/plain": [
       "(-0.9230769230769231+0.38461538461538464j)"
      ]
     },
     "metadata": {},
     "execution_count": 4
    }
   ],
   "source": [
    "SQD_ref_coeff(10j,50)"
   ]
  },
  {
   "cell_type": "code",
   "execution_count": null,
   "metadata": {},
   "outputs": [],
   "source": [
    "def gain():\n",
    "    \n"
   ]
  }
 ]
}